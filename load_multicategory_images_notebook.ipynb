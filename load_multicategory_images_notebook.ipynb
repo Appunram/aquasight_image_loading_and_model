{
 "cells": [
  {
   "cell_type": "code",
   "execution_count": null,
   "metadata": {},
   "outputs": [],
   "source": [
    "import numpy as np\n",
    "import matplotlib.pyplot as plt\n",
    "import os\n",
    "import cv2\n",
    "\n",
    "DATADIR = \"E:/Users/Elliott/dev/aquavision_project/AquaVision Image Data/Research Data\"\n",
    "CATEGORIES = ['Clean', 'Contaminated']\n",
    "\n",
    "# for num, img in enumerate(os.listdir(DATADIR), start=1):\n",
    "#     img_array = cv2.imread(os.path.join(DATADIR, img))\n",
    "#     plt.imshow(img_array, cmap='Accent')\n",
    "#     plt.show()\n",
    "#     break\n",
    "\n",
    "\n",
    "training_data = []\n",
    "IMG_SIZE = 300\n",
    "\n",
    "def create_training_dataset():\n",
    "    for num, img in enumerate(os.listdir(DATADIR), start=1):\n",
    "        try:\n",
    "            img_arr = cv2.imread(os.path.join(DATADIR, img))\n",
    "            RGB_ver = cv2.cvtColor(img_arr, cv2.COLOR_BGR2RGB)\n",
    "            new_img_arr = cv2.resize(RGB_ver, (IMG_SIZE, IMG_SIZE))\n",
    "            if(num == 1):\n",
    "                plt.imshow(new_img_arr)\n",
    "                plt.show()\n",
    "            if(num <= 35):\n",
    "                # Second parameter is class num 0 for clean\n",
    "                training_data.append([new_img_arr, 0])\n",
    "                print(\"Added img num {} as clean\".format(num))\n",
    "            elif(num >= 35 and num <= 91):\n",
    "                # Second parameter is class num 1 for dirty\n",
    "                training_data.append([new_img_arr, 1])\n",
    "                print(\"Added img num {} as contaminated\".format(num))\n",
    "            else:\n",
    "                # There are 15 additional clean images\n",
    "                training_data.append([new_img_arr, 0])\n",
    "                print(\"Added img num {} as clean\".format(num))\n",
    "        except Exception as e:\n",
    "            print(e)\n",
    "\n",
    "#  Run function to create our training data\n",
    "create_training_dataset()\n",
    "print(len(training_data))\n"
   ]
  }
 ],
 "metadata": {
  "kernelspec": {
   "display_name": "Python [conda env:TensorFlow Testing]",
   "language": "python",
   "name": "conda-env-TensorFlow_Testing-py"
  },
  "language_info": {
   "codemirror_mode": {
    "name": "ipython",
    "version": 3
   },
   "file_extension": ".py",
   "mimetype": "text/x-python",
   "name": "python",
   "nbconvert_exporter": "python",
   "pygments_lexer": "ipython3",
   "version": "3.6.8"
  }
 },
 "nbformat": 4,
 "nbformat_minor": 2
}
